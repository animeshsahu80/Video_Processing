{
 "cells": [
  {
   "cell_type": "code",
   "execution_count": 78,
   "metadata": {},
   "outputs": [],
   "source": [
    "from conf import SAMPLE_INPUTS,SAMPLE_OUTPUTS\n",
    "from moviepy.editor import *\n",
    "import pyautogui\n",
    "import PIL\n",
    "from PIL import Image,ImageGrab\n",
    "import time\n",
    "from pyautogui import screenshotUtil\n",
    "from numpy import asarray"
   ]
  },
  {
   "cell_type": "markdown",
   "metadata": {},
   "source": [
    "### Cropping the video"
   ]
  },
  {
   "cell_type": "code",
   "execution_count": 79,
   "metadata": {},
   "outputs": [],
   "source": [
    "CROPPED_VID_DIR=os.path.join(SAMPLE_OUTPUTS,'cropped')\n",
    "os.makedirs(CROPPED_VID_DIR,exist_ok=True)\n",
    "crop_vid_path=os.path.join(CROPPED_VID_DIR,'cropped_without_audio.mp4')\n",
    "\n",
    "crop_vid_path_with_audio=os.path.join(CROPPED_VID_DIR,'cropped_output_video.mp4')"
   ]
  },
  {
   "cell_type": "code",
   "execution_count": 80,
   "metadata": {},
   "outputs": [],
   "source": [
    "clip =VideoFileClip(source_path)\n",
    "subclip=clip.subclip(10,20) #cropping video from 10th to 20th sec"
   ]
  },
  {
   "cell_type": "code",
   "execution_count": 81,
   "metadata": {},
   "outputs": [
    {
     "name": "stderr",
     "output_type": "stream",
     "text": [
      "chunk:   5%|▍         | 32/666 [46:45<15:26:19, 87.66s/it, now=None]\n",
      "t:   0%|          | 0/300 [00:00<?, ?it/s, now=None]\u001b[A\n",
      "t:   3%|▎         | 8/300 [00:00<00:04, 70.80it/s, now=None]\u001b[A"
     ]
    },
    {
     "name": "stdout",
     "output_type": "stream",
     "text": [
      "MoviePy - Building file  /home/animesh/video_processing/data/samples/outputs/cropped/cropped_without_audio.mp4\n",
      "MoviePy - - Generating GIF frames.\n"
     ]
    },
    {
     "name": "stderr",
     "output_type": "stream",
     "text": [
      "\n",
      "t:   5%|▌         | 15/300 [00:00<00:04, 67.49it/s, now=None]\u001b[A\n",
      "t:   7%|▋         | 22/300 [00:00<00:04, 66.07it/s, now=None]\u001b[A\n",
      "t:  10%|▉         | 29/300 [00:00<00:04, 65.71it/s, now=None]\u001b[A\n",
      "t:  12%|█▏        | 35/300 [00:00<00:04, 63.61it/s, now=None]\u001b[A\n",
      "t:  14%|█▍        | 42/300 [00:00<00:04, 64.49it/s, now=None]\u001b[A\n",
      "t:  16%|█▌        | 48/300 [00:00<00:04, 55.39it/s, now=None]\u001b[A\n",
      "t:  18%|█▊        | 54/300 [00:00<00:04, 51.61it/s, now=None]\u001b[A\n",
      "t:  20%|█▉        | 59/300 [00:01<00:05, 47.14it/s, now=None]\u001b[A\n",
      "t:  21%|██▏       | 64/300 [00:01<00:05, 45.68it/s, now=None]\u001b[A\n",
      "t:  23%|██▎       | 69/300 [00:01<00:05, 42.99it/s, now=None]\u001b[A\n",
      "t:  25%|██▍       | 74/300 [00:01<00:05, 42.10it/s, now=None]\u001b[A\n",
      "t:  26%|██▋       | 79/300 [00:01<00:05, 41.14it/s, now=None]\u001b[A\n",
      "t:  28%|██▊       | 84/300 [00:01<00:05, 41.26it/s, now=None]\u001b[A\n",
      "t:  30%|██▉       | 89/300 [00:01<00:05, 40.86it/s, now=None]\u001b[A\n",
      "t:  31%|███▏      | 94/300 [00:01<00:04, 41.23it/s, now=None]\u001b[A\n",
      "t:  33%|███▎      | 99/300 [00:02<00:04, 41.82it/s, now=None]\u001b[A\n",
      "t:  35%|███▍      | 104/300 [00:02<00:04, 42.18it/s, now=None]\u001b[A\n",
      "t:  36%|███▋      | 109/300 [00:02<00:04, 42.73it/s, now=None]\u001b[A\n",
      "t:  38%|███▊      | 114/300 [00:02<00:04, 41.65it/s, now=None]\u001b[A\n",
      "t:  40%|███▉      | 119/300 [00:02<00:04, 40.93it/s, now=None]\u001b[A\n",
      "t:  41%|████▏     | 124/300 [00:02<00:04, 40.44it/s, now=None]\u001b[A\n",
      "t:  43%|████▎     | 129/300 [00:02<00:04, 42.31it/s, now=None]\u001b[A\n",
      "t:  45%|████▍     | 134/300 [00:02<00:03, 42.96it/s, now=None]\u001b[A\n",
      "t:  46%|████▋     | 139/300 [00:02<00:03, 43.40it/s, now=None]\u001b[A\n",
      "t:  48%|████▊     | 144/300 [00:03<00:03, 43.71it/s, now=None]\u001b[A\n",
      "t:  50%|████▉     | 149/300 [00:03<00:03, 43.68it/s, now=None]\u001b[A\n",
      "t:  51%|█████▏    | 154/300 [00:03<00:03, 42.27it/s, now=None]\u001b[A\n",
      "t:  53%|█████▎    | 159/300 [00:03<00:03, 42.96it/s, now=None]\u001b[A\n",
      "t:  55%|█████▍    | 164/300 [00:03<00:03, 43.42it/s, now=None]\u001b[A\n",
      "t:  56%|█████▋    | 169/300 [00:03<00:03, 42.80it/s, now=None]\u001b[A\n",
      "t:  58%|█████▊    | 174/300 [00:03<00:02, 42.73it/s, now=None]\u001b[A\n",
      "t:  60%|█████▉    | 179/300 [00:03<00:02, 41.54it/s, now=None]\u001b[A\n",
      "t:  61%|██████▏   | 184/300 [00:04<00:02, 41.58it/s, now=None]\u001b[A\n",
      "t:  63%|██████▎   | 189/300 [00:04<00:02, 40.67it/s, now=None]\u001b[A\n",
      "t:  65%|██████▍   | 194/300 [00:04<00:02, 40.94it/s, now=None]\u001b[A\n",
      "t:  66%|██████▋   | 199/300 [00:04<00:02, 39.07it/s, now=None]\u001b[A\n",
      "t:  68%|██████▊   | 203/300 [00:04<00:02, 37.48it/s, now=None]\u001b[A\n",
      "t:  69%|██████▉   | 207/300 [00:04<00:02, 35.58it/s, now=None]\u001b[A\n",
      "t:  71%|███████   | 212/300 [00:04<00:02, 36.97it/s, now=None]\u001b[A\n",
      "t:  72%|███████▏  | 216/300 [00:04<00:02, 35.77it/s, now=None]\u001b[A\n",
      "t:  73%|███████▎  | 220/300 [00:05<00:02, 35.86it/s, now=None]\u001b[A\n",
      "t:  75%|███████▍  | 224/300 [00:05<00:02, 35.10it/s, now=None]\u001b[A\n",
      "t:  76%|███████▌  | 228/300 [00:05<00:02, 35.65it/s, now=None]\u001b[A\n",
      "t:  77%|███████▋  | 232/300 [00:05<00:01, 35.31it/s, now=None]\u001b[A\n",
      "t:  79%|███████▊  | 236/300 [00:05<00:01, 33.87it/s, now=None]\u001b[A\n",
      "t:  80%|████████  | 240/300 [00:05<00:01, 33.79it/s, now=None]\u001b[A\n",
      "t:  81%|████████▏ | 244/300 [00:05<00:01, 34.25it/s, now=None]\u001b[A\n",
      "t:  83%|████████▎ | 249/300 [00:05<00:01, 36.11it/s, now=None]\u001b[A\n",
      "t:  84%|████████▍ | 253/300 [00:05<00:01, 36.50it/s, now=None]\u001b[A\n",
      "t:  86%|████████▌ | 257/300 [00:06<00:01, 35.78it/s, now=None]\u001b[A\n",
      "t:  87%|████████▋ | 261/300 [00:06<00:01, 35.83it/s, now=None]\u001b[A\n",
      "t:  88%|████████▊ | 265/300 [00:06<00:00, 35.47it/s, now=None]\u001b[A\n",
      "t:  90%|████████▉ | 269/300 [00:06<00:00, 36.48it/s, now=None]\u001b[A\n",
      "t:  91%|█████████ | 273/300 [00:06<00:00, 37.10it/s, now=None]\u001b[A\n",
      "t:  92%|█████████▏| 277/300 [00:06<00:00, 37.61it/s, now=None]\u001b[A\n",
      "t:  94%|█████████▎| 281/300 [00:06<00:00, 37.73it/s, now=None]\u001b[A\n",
      "t:  95%|█████████▌| 286/300 [00:06<00:00, 39.05it/s, now=None]\u001b[A\n",
      "t:  97%|█████████▋| 290/300 [00:06<00:00, 38.50it/s, now=None]\u001b[A\n",
      "t:  98%|█████████▊| 294/300 [00:07<00:00, 38.24it/s, now=None]\u001b[A\n",
      "t:  99%|█████████▉| 298/300 [00:07<00:00, 38.09it/s, now=None]\u001b[A\n",
      "chunk:   5%|▍         | 32/666 [46:53<15:28:52, 87.91s/it, now=None]"
     ]
    },
    {
     "name": "stdout",
     "output_type": "stream",
     "text": [
      "MoviePy - - File ready: /home/animesh/video_processing/data/samples/outputs/cropped/cropped_without_audio.mp4.\n"
     ]
    }
   ],
   "source": [
    "w,h=clip.size\n",
    "cropped_clip=crop(subclip,width=500,height=500)   #adjust the parameters accordingly\n",
    "cropped_clip.write_gif(crop_vid_path,fps=30,program='ffmpeg')"
   ]
  },
  {
   "cell_type": "markdown",
   "metadata": {},
   "source": [
    "### Extract audio from clip"
   ]
  },
  {
   "cell_type": "code",
   "execution_count": 82,
   "metadata": {},
   "outputs": [],
   "source": [
    "source_path=os.path.join(SAMPLE_INPUTS,'sample.mp4')\n",
    "MIX_DIR=os.path.join(SAMPLE_OUTPUTS,'mixed_audio')\n",
    "os.makedirs(MIX_DIR,exist_ok=True)\n",
    "audio_path=os.path.join(MIX_DIR,'audio.mp3')\n",
    "audio_sub_clip_path=os.path.join(MIX_DIR,'audio_subclip.mp3')\n",
    "mixed_audio_path=os.path.join(MIX_DIR,'mixed_audio.mp3')"
   ]
  },
  {
   "cell_type": "code",
   "execution_count": 83,
   "metadata": {},
   "outputs": [
    {
     "name": "stderr",
     "output_type": "stream",
     "text": [
      "chunk:   5%|▍         | 32/666 [46:53<15:28:53, 87.91s/it, now=None]\n",
      "chunk:   0%|          | 0/666 [00:00<?, ?it/s, now=None]\u001b[A\n",
      "chunk:  20%|██        | 135/666 [00:00<00:00, 1349.64it/s, now=None]\u001b[A"
     ]
    },
    {
     "name": "stdout",
     "output_type": "stream",
     "text": [
      "MoviePy - Writing audio in /home/animesh/video_processing/data/samples/outputs/mixed_audio/audio.mp3\n"
     ]
    },
    {
     "name": "stderr",
     "output_type": "stream",
     "text": [
      "\n",
      "chunk:  42%|████▏     | 281/666 [00:00<00:00, 1380.70it/s, now=None]\u001b[A\n",
      "chunk:  67%|██████▋   | 448/666 [00:00<00:00, 1455.43it/s, now=None]\u001b[A\n",
      "chunk:  92%|█████████▏| 612/666 [00:00<00:00, 1503.97it/s, now=None]\u001b[A\n",
      "chunk:   5%|▍         | 32/666 [46:53<15:29:02, 87.92s/it, now=None]\u001b[A"
     ]
    },
    {
     "name": "stdout",
     "output_type": "stream",
     "text": [
      "MoviePy - Done.\n"
     ]
    }
   ],
   "source": [
    "\n",
    "orig_audio=clip.audio\n",
    "orig_audio.write_audiofile(audio_path)"
   ]
  },
  {
   "cell_type": "code",
   "execution_count": 84,
   "metadata": {},
   "outputs": [],
   "source": [
    "audio_source_path=os.path.join(MIX_DIR,'audio.mp3')  #convert extracted audoi clip into source clip for future use\n",
    "audio=AudioFileClip(audio_source_path)"
   ]
  },
  {
   "cell_type": "markdown",
   "metadata": {},
   "source": [
    "### croping the audio"
   ]
  },
  {
   "cell_type": "code",
   "execution_count": 85,
   "metadata": {},
   "outputs": [
    {
     "name": "stderr",
     "output_type": "stream",
     "text": [
      "chunk:   5%|▍         | 32/666 [46:53<15:29:03, 87.92s/it, now=None]\n",
      "chunk:   0%|          | 0/221 [00:00<?, ?it/s, now=None]\u001b[A\n",
      "chunk:  75%|███████▌  | 166/221 [00:00<00:00, 1657.82it/s, now=None]\u001b[A"
     ]
    },
    {
     "name": "stdout",
     "output_type": "stream",
     "text": [
      "MoviePy - Writing audio in /home/animesh/video_processing/data/samples/outputs/mixed_audio/audio_subclip.mp3\n"
     ]
    },
    {
     "name": "stderr",
     "output_type": "stream",
     "text": [
      "\n",
      "chunk:   5%|▍         | 32/666 [46:53<15:29:06, 87.93s/it, now=None]\u001b[A"
     ]
    },
    {
     "name": "stdout",
     "output_type": "stream",
     "text": [
      "MoviePy - Done.\n"
     ]
    }
   ],
   "source": [
    "bg_audio=audio.subclip(10,20) #cropping audio from 10th to 20th sec\n",
    "bg_audio=bg_audio.volumex(0.60)  #adjustiong the vol to 0.6 of the original \n",
    "bg_audio.write_audiofile(audio_sub_clip_path)"
   ]
  },
  {
   "cell_type": "markdown",
   "metadata": {},
   "source": [
    "### Mixing the audio  (optional)\n"
   ]
  },
  {
   "cell_type": "code",
   "execution_count": 86,
   "metadata": {},
   "outputs": [],
   "source": [
    "final_audio=CompositeAudioClip([bg_audio,orig_audio])"
   ]
  },
  {
   "cell_type": "code",
   "execution_count": 87,
   "metadata": {},
   "outputs": [
    {
     "name": "stderr",
     "output_type": "stream",
     "text": [
      "chunk:   5%|▍         | 32/666 [46:53<15:29:07, 87.93s/it, now=None]"
     ]
    },
    {
     "name": "stdout",
     "output_type": "stream",
     "text": [
      "MoviePy - Writing audio in /home/animesh/video_processing/data/samples/outputs/mixed_audio/mixed_audio.mp3\n"
     ]
    },
    {
     "name": "stderr",
     "output_type": "stream",
     "text": [
      "\n",
      "chunk:   0%|          | 0/666 [00:00<?, ?it/s, now=None]\u001b[A\n",
      "chunk:   5%|▌         | 36/666 [00:00<00:01, 342.58it/s, now=None]\u001b[A\n",
      "chunk:  31%|███       | 204/666 [00:00<00:01, 449.79it/s, now=None]\u001b[A\n",
      "chunk:  57%|█████▋    | 378/666 [00:00<00:00, 578.30it/s, now=None]\u001b[A\n",
      "chunk:  86%|████████▌ | 574/666 [00:00<00:00, 733.30it/s, now=None]\u001b[A\n",
      "chunk:   5%|▍         | 32/666 [46:54<15:29:16, 87.94s/it, now=None][A"
     ]
    },
    {
     "name": "stdout",
     "output_type": "stream",
     "text": [
      "MoviePy - Done.\n"
     ]
    }
   ],
   "source": [
    "final_audio.write_audiofile(mixed_audio_path,fps=orig_audio.fps)"
   ]
  },
  {
   "cell_type": "markdown",
   "metadata": {},
   "source": []
  },
  {
   "cell_type": "code",
   "execution_count": 93,
   "metadata": {},
   "outputs": [
    {
     "name": "stderr",
     "output_type": "stream",
     "text": [
      "                                                                     \n",
      "chunk:   5%|▍         | 32/666 [1:00:02<19:49:29, 112.57s/it, now=None]\n",
      "                                                                       \n",
      "chunk:   5%|▍         | 32/666 [1:00:02<19:49:29, 112.57s/it, now=None]\n",
      "chunk:  14%|█▍        | 31/221 [08:25<51:35, 16.29s/it, now=None]\u001b[A\n",
      "\n",
      "chunk:   0%|          | 0/222 [00:00<?, ?it/s, now=None]\u001b[A\u001b[A\n",
      "\n",
      "chunk:  79%|███████▉  | 175/222 [00:00<00:00, 1748.36it/s, now=None]\u001b[A\u001b[A\n",
      "\n",
      "                                                                       \u001b[A\n",
      "chunk:   5%|▍         | 32/666 [1:00:02<19:49:33, 112.58s/it, now=None]\n",
      "                                                                       \n",
      "chunk:   5%|▍         | 32/666 [1:00:02<19:49:33, 112.58s/it, now=None]\n",
      "chunk:  14%|█▍        | 31/221 [08:25<51:36, 16.30s/it, now=None]\u001b[A\n",
      "\n",
      "t:   0%|          | 0/300 [00:00<?, ?it/s, now=None]\u001b[A\u001b[A"
     ]
    },
    {
     "name": "stdout",
     "output_type": "stream",
     "text": [
      "Moviepy - Building video /home/animesh/video_processing/data/samples/outputs/cropped/cropped_output_video.mp4.\n",
      "MoviePy - Writing audio in cropped_output_videoTEMP_MPY_wvf_snd.mp4\n",
      "MoviePy - Done.\n",
      "Moviepy - Writing video /home/animesh/video_processing/data/samples/outputs/cropped/cropped_output_video.mp4\n",
      "\n"
     ]
    },
    {
     "name": "stderr",
     "output_type": "stream",
     "text": [
      "\n",
      "\n",
      "t:   1%|          | 2/300 [00:00<00:24, 12.25it/s, now=None]\u001b[A\u001b[A\n",
      "\n",
      "t:   4%|▎         | 11/300 [00:00<00:17, 16.52it/s, now=None]\u001b[A\u001b[A\n",
      "\n",
      "t:   7%|▋         | 21/300 [00:00<00:12, 21.97it/s, now=None]\u001b[A\u001b[A\n",
      "\n",
      "t:  10%|▉         | 29/300 [00:00<00:09, 28.05it/s, now=None]\u001b[A\u001b[A\n",
      "\n",
      "t:  12%|█▏        | 37/300 [00:00<00:07, 34.65it/s, now=None]\u001b[A\u001b[A\n",
      "\n",
      "t:  15%|█▌        | 46/300 [00:00<00:06, 41.85it/s, now=None]\u001b[A\u001b[A\n",
      "\n",
      "t:  18%|█▊        | 54/300 [00:00<00:05, 48.22it/s, now=None]\u001b[A\u001b[A\n",
      "\n",
      "t:  21%|██        | 62/300 [00:00<00:04, 47.88it/s, now=None]\u001b[A\u001b[A\n",
      "\n",
      "t:  23%|██▎       | 69/300 [00:01<00:04, 48.92it/s, now=None]\u001b[A\u001b[A\n",
      "\n",
      "t:  25%|██▌       | 75/300 [00:01<00:04, 51.07it/s, now=None]\u001b[A\u001b[A\n",
      "\n",
      "t:  27%|██▋       | 81/300 [00:01<00:04, 50.95it/s, now=None]\u001b[A\u001b[A\n",
      "\n",
      "t:  29%|██▉       | 87/300 [00:01<00:04, 51.71it/s, now=None]\u001b[A\u001b[A\n",
      "\n",
      "t:  31%|███       | 93/300 [00:01<00:03, 52.40it/s, now=None]\u001b[A\u001b[A\n",
      "\n",
      "t:  33%|███▎      | 99/300 [00:01<00:03, 52.95it/s, now=None]\u001b[A\u001b[A\n",
      "\n",
      "t:  35%|███▌      | 105/300 [00:01<00:03, 53.76it/s, now=None]\u001b[A\u001b[A\n",
      "\n",
      "t:  37%|███▋      | 111/300 [00:01<00:03, 53.22it/s, now=None]\u001b[A\u001b[A\n",
      "\n",
      "t:  39%|███▉      | 117/300 [00:01<00:03, 53.37it/s, now=None]\u001b[A\u001b[A\n",
      "\n",
      "t:  41%|████      | 123/300 [00:02<00:03, 54.39it/s, now=None]\u001b[A\u001b[A\n",
      "\n",
      "t:  43%|████▎     | 129/300 [00:02<00:03, 48.19it/s, now=None]\u001b[A\u001b[A\n",
      "\n",
      "t:  45%|████▍     | 134/300 [00:02<00:03, 46.14it/s, now=None]\u001b[A\u001b[A\n",
      "\n",
      "t:  47%|████▋     | 140/300 [00:02<00:03, 48.27it/s, now=None]\u001b[A\u001b[A\n",
      "\n",
      "t:  49%|████▊     | 146/300 [00:02<00:03, 50.19it/s, now=None]\u001b[A\u001b[A\n",
      "\n",
      "t:  51%|█████     | 153/300 [00:02<00:02, 53.39it/s, now=None]\u001b[A\u001b[A\n",
      "\n",
      "t:  53%|█████▎    | 159/300 [00:02<00:02, 54.64it/s, now=None]\u001b[A\u001b[A\n",
      "\n",
      "t:  55%|█████▌    | 165/300 [00:02<00:02, 55.14it/s, now=None]\u001b[A\u001b[A\n",
      "\n",
      "t:  57%|█████▋    | 171/300 [00:03<00:02, 55.95it/s, now=None]\u001b[A\u001b[A\n",
      "\n",
      "t:  59%|█████▉    | 177/300 [00:03<00:02, 54.77it/s, now=None]\u001b[A\u001b[A\n",
      "\n",
      "t:  61%|██████    | 183/300 [00:03<00:02, 54.09it/s, now=None]\u001b[A\u001b[A\n",
      "\n",
      "t:  63%|██████▎   | 189/300 [00:03<00:02, 53.51it/s, now=None]\u001b[A\u001b[A\n",
      "\n",
      "t:  65%|██████▌   | 195/300 [00:03<00:02, 46.72it/s, now=None]\u001b[A\u001b[A\n",
      "\n",
      "t:  67%|██████▋   | 200/300 [00:03<00:02, 42.20it/s, now=None]\u001b[A\u001b[A\n",
      "\n",
      "t:  68%|██████▊   | 205/300 [00:03<00:02, 42.98it/s, now=None]\u001b[A\u001b[A\n",
      "\n",
      "t:  70%|███████   | 210/300 [00:03<00:02, 42.76it/s, now=None]\u001b[A\u001b[A\n",
      "\n",
      "t:  72%|███████▏  | 215/300 [00:04<00:01, 43.53it/s, now=None]\u001b[A\u001b[A\n",
      "\n",
      "t:  74%|███████▎  | 221/300 [00:04<00:01, 47.36it/s, now=None]\u001b[A\u001b[A\n",
      "\n",
      "t:  76%|███████▌  | 227/300 [00:04<00:01, 48.37it/s, now=None]\u001b[A\u001b[A\n",
      "\n",
      "t:  78%|███████▊  | 233/300 [00:04<00:01, 50.15it/s, now=None]\u001b[A\u001b[A\n",
      "\n",
      "t:  80%|███████▉  | 239/300 [00:04<00:01, 50.74it/s, now=None]\u001b[A\u001b[A\n",
      "\n",
      "t:  82%|████████▏ | 245/300 [00:04<00:01, 48.20it/s, now=None]\u001b[A\u001b[A\n",
      "\n",
      "t:  83%|████████▎ | 250/300 [00:04<00:01, 42.21it/s, now=None]\u001b[A\u001b[A\n",
      "\n",
      "t:  85%|████████▌ | 255/300 [00:04<00:01, 38.75it/s, now=None]\u001b[A\u001b[A\n",
      "\n",
      "t:  87%|████████▋ | 260/300 [00:05<00:00, 40.96it/s, now=None]\u001b[A\u001b[A\n",
      "\n",
      "t:  88%|████████▊ | 265/300 [00:05<00:00, 38.22it/s, now=None]\u001b[A\u001b[A\n",
      "\n",
      "t:  90%|████████▉ | 269/300 [00:05<00:00, 37.75it/s, now=None]\u001b[A\u001b[A\n",
      "\n",
      "t:  91%|█████████ | 273/300 [00:05<00:00, 37.93it/s, now=None]\u001b[A\u001b[A\n",
      "\n",
      "t:  92%|█████████▏| 277/300 [00:05<00:00, 33.68it/s, now=None]\u001b[A\u001b[A\n",
      "\n",
      "t:  94%|█████████▎| 281/300 [00:05<00:00, 35.10it/s, now=None]\u001b[A\u001b[A\n",
      "\n",
      "t:  96%|█████████▌| 287/300 [00:05<00:00, 39.52it/s, now=None]\u001b[A\u001b[A\n",
      "\n",
      "t:  97%|█████████▋| 292/300 [00:05<00:00, 40.90it/s, now=None]\u001b[A\u001b[A\n",
      "\n",
      "t:  99%|█████████▉| 298/300 [00:05<00:00, 44.37it/s, now=None]\u001b[A\u001b[A\n",
      "\n",
      "                                                                       \n",
      "chunk:   5%|▍         | 32/666 [1:00:08<19:51:41, 112.78s/it, now=None]\n",
      "                                                                       \n",
      "chunk:   5%|▍         | 32/666 [1:00:08<19:51:42, 112.78s/it, now=None]\n",
      "chunk:  14%|█▍        | 31/221 [08:31<52:16, 16.51s/it, now=None]\u001b[A"
     ]
    },
    {
     "name": "stdout",
     "output_type": "stream",
     "text": [
      "Moviepy - Done !\n",
      "Moviepy - video ready /home/animesh/video_processing/data/samples/outputs/cropped/cropped_output_video.mp4\n"
     ]
    }
   ],
   "source": [
    "new_audio=AudioFileClip(audio_sub_clip_path)\n",
    "output_cropped_clip=cropped_clip.set_audio(new_audio)\n",
    "\n",
    "output_cropped_clip.write_videofile(crop_vid_path_with_audio, codec='libx264', audio_codec='aac')"
   ]
  },
  {
   "cell_type": "code",
   "execution_count": 95,
   "metadata": {},
   "outputs": [
    {
     "name": "stderr",
     "output_type": "stream",
     "text": [
      "                                                                       \n",
      "chunk:   5%|▍         | 32/666 [1:01:28<20:17:54, 115.26s/it, now=None]\n",
      "                                                                       \n",
      "chunk:   5%|▍         | 32/666 [1:01:28<20:17:54, 115.26s/it, now=None]\n",
      "chunk:  14%|█▍        | 31/221 [09:51<1:00:22, 19.07s/it, now=None]\u001b[A\n",
      "\n",
      "chunk:   0%|          | 0/222 [00:00<?, ?it/s, now=None]\u001b[A\u001b[A\n",
      "\n",
      "chunk:  64%|██████▍   | 143/222 [00:00<00:00, 1422.64it/s, now=None]\u001b[A\u001b[A\n",
      "\n",
      "                                                                       \u001b[A\n",
      "chunk:   5%|▍         | 32/666 [1:01:28<20:17:57, 115.26s/it, now=None]\n",
      "                                                                       \n",
      "chunk:   5%|▍         | 32/666 [1:01:28<20:17:57, 115.26s/it, now=None]\n",
      "chunk:  14%|█▍        | 31/221 [09:51<1:00:23, 19.07s/it, now=None]\u001b[A"
     ]
    },
    {
     "name": "stdout",
     "output_type": "stream",
     "text": [
      "Moviepy - Building video /home/animesh/video_processing/data/samples/outputs/cropped/cropped_output_video.mp4.\n",
      "MoviePy - Writing audio in cropped_output_videoTEMP_MPY_wvf_snd.mp3\n",
      "MoviePy - Done.\n",
      "Moviepy - Writing video /home/animesh/video_processing/data/samples/outputs/cropped/cropped_output_video.mp4\n",
      "\n"
     ]
    },
    {
     "name": "stderr",
     "output_type": "stream",
     "text": [
      "\n",
      "\n",
      "t:   0%|          | 0/300 [00:00<?, ?it/s, now=None]\u001b[A\u001b[A\n",
      "\n",
      "t:   1%|          | 2/300 [00:00<00:23, 12.66it/s, now=None]\u001b[A\u001b[A\n",
      "\n",
      "t:   4%|▎         | 11/300 [00:00<00:16, 17.02it/s, now=None]\u001b[A\u001b[A\n",
      "\n",
      "t:   7%|▋         | 21/300 [00:00<00:12, 22.56it/s, now=None]\u001b[A\u001b[A\n",
      "\n",
      "t:  10%|█         | 30/300 [00:00<00:09, 28.84it/s, now=None]\u001b[A\u001b[A\n",
      "\n",
      "t:  13%|█▎        | 38/300 [00:00<00:07, 35.55it/s, now=None]\u001b[A\u001b[A\n",
      "\n",
      "t:  15%|█▌        | 46/300 [00:00<00:06, 42.07it/s, now=None]\u001b[A\u001b[A\n",
      "\n",
      "t:  18%|█▊        | 54/300 [00:00<00:05, 48.25it/s, now=None]\u001b[A\u001b[A\n",
      "\n",
      "t:  20%|██        | 61/300 [00:00<00:05, 47.39it/s, now=None]\u001b[A\u001b[A\n",
      "\n",
      "t:  23%|██▎       | 68/300 [00:01<00:04, 48.59it/s, now=None]\u001b[A\u001b[A\n",
      "\n",
      "t:  25%|██▍       | 74/300 [00:01<00:04, 50.28it/s, now=None]\u001b[A\u001b[A\n",
      "\n",
      "t:  27%|██▋       | 80/300 [00:01<00:04, 51.18it/s, now=None]\u001b[A\u001b[A\n",
      "\n",
      "t:  29%|██▊       | 86/300 [00:01<00:04, 50.62it/s, now=None]\u001b[A\u001b[A\n",
      "\n",
      "t:  31%|███       | 92/300 [00:01<00:04, 50.65it/s, now=None]\u001b[A\u001b[A\n",
      "\n",
      "t:  33%|███▎      | 98/300 [00:01<00:03, 52.93it/s, now=None]\u001b[A\u001b[A\n",
      "\n",
      "t:  35%|███▌      | 105/300 [00:01<00:03, 54.51it/s, now=None]\u001b[A\u001b[A\n",
      "\n",
      "t:  37%|███▋      | 112/300 [00:01<00:03, 56.51it/s, now=None]\u001b[A\u001b[A\n",
      "\n",
      "t:  39%|███▉      | 118/300 [00:01<00:03, 57.24it/s, now=None]\u001b[A\u001b[A\n",
      "\n",
      "t:  41%|████▏     | 124/300 [00:02<00:03, 57.75it/s, now=None]\u001b[A\u001b[A\n",
      "\n",
      "t:  43%|████▎     | 130/300 [00:02<00:02, 58.38it/s, now=None]\u001b[A\u001b[A\n",
      "\n",
      "t:  45%|████▌     | 136/300 [00:02<00:03, 53.15it/s, now=None]\u001b[A\u001b[A\n",
      "\n",
      "t:  47%|████▋     | 142/300 [00:02<00:03, 50.18it/s, now=None]\u001b[A\u001b[A\n",
      "\n",
      "t:  49%|████▉     | 148/300 [00:02<00:02, 51.92it/s, now=None]\u001b[A\u001b[A\n",
      "\n",
      "t:  51%|█████▏    | 154/300 [00:02<00:02, 50.70it/s, now=None]\u001b[A\u001b[A\n",
      "\n",
      "t:  53%|█████▎    | 160/300 [00:02<00:02, 49.76it/s, now=None]\u001b[A\u001b[A\n",
      "\n",
      "t:  55%|█████▌    | 166/300 [00:02<00:02, 52.01it/s, now=None]\u001b[A\u001b[A\n",
      "\n",
      "t:  57%|█████▋    | 172/300 [00:03<00:02, 48.83it/s, now=None]\u001b[A\u001b[A\n",
      "\n",
      "t:  59%|█████▉    | 177/300 [00:03<00:02, 46.48it/s, now=None]\u001b[A\u001b[A\n",
      "\n",
      "t:  61%|██████    | 182/300 [00:03<00:02, 46.54it/s, now=None]\u001b[A\u001b[A\n",
      "\n",
      "t:  62%|██████▏   | 187/300 [00:03<00:02, 44.44it/s, now=None]\u001b[A\u001b[A\n",
      "\n",
      "t:  64%|██████▍   | 192/300 [00:03<00:02, 42.70it/s, now=None]\u001b[A\u001b[A\n",
      "\n",
      "t:  66%|██████▌   | 197/300 [00:03<00:02, 43.11it/s, now=None]\u001b[A\u001b[A\n",
      "\n",
      "t:  68%|██████▊   | 203/300 [00:03<00:02, 45.08it/s, now=None]\u001b[A\u001b[A\n",
      "\n",
      "t:  69%|██████▉   | 208/300 [00:03<00:02, 45.45it/s, now=None]\u001b[A\u001b[A\n",
      "\n",
      "t:  71%|███████   | 213/300 [00:03<00:01, 45.66it/s, now=None]\u001b[A\u001b[A\n",
      "\n",
      "t:  73%|███████▎  | 218/300 [00:04<00:01, 45.85it/s, now=None]\u001b[A\u001b[A\n",
      "\n",
      "t:  75%|███████▍  | 224/300 [00:04<00:01, 48.95it/s, now=None]\u001b[A\u001b[A\n",
      "\n",
      "t:  76%|███████▋  | 229/300 [00:04<00:01, 46.66it/s, now=None]\u001b[A\u001b[A\n",
      "\n",
      "t:  78%|███████▊  | 234/300 [00:04<00:01, 46.99it/s, now=None]\u001b[A\u001b[A\n",
      "\n",
      "t:  80%|███████▉  | 239/300 [00:04<00:01, 46.81it/s, now=None]\u001b[A\u001b[A\n",
      "\n",
      "t:  82%|████████▏ | 245/300 [00:04<00:01, 47.95it/s, now=None]\u001b[A\u001b[A\n",
      "\n",
      "t:  83%|████████▎ | 250/300 [00:04<00:01, 46.81it/s, now=None]\u001b[A\u001b[A\n",
      "\n",
      "t:  85%|████████▌ | 256/300 [00:04<00:00, 47.98it/s, now=None]\u001b[A\u001b[A\n",
      "\n",
      "t:  87%|████████▋ | 261/300 [00:04<00:00, 46.15it/s, now=None]\u001b[A\u001b[A\n",
      "\n",
      "t:  89%|████████▊ | 266/300 [00:05<00:00, 44.91it/s, now=None]\u001b[A\u001b[A\n",
      "\n",
      "t:  90%|█████████ | 271/300 [00:05<00:00, 44.06it/s, now=None]\u001b[A\u001b[A\n",
      "\n",
      "t:  92%|█████████▏| 276/300 [00:05<00:00, 41.87it/s, now=None]\u001b[A\u001b[A\n",
      "\n",
      "t:  94%|█████████▎| 281/300 [00:05<00:00, 43.39it/s, now=None]\u001b[A\u001b[A\n",
      "\n",
      "t:  95%|█████████▌| 286/300 [00:05<00:00, 44.03it/s, now=None]\u001b[A\u001b[A\n",
      "\n",
      "t:  97%|█████████▋| 291/300 [00:05<00:00, 45.38it/s, now=None]\u001b[A\u001b[A\n",
      "\n",
      "t:  99%|█████████▊| 296/300 [00:05<00:00, 46.53it/s, now=None]\u001b[A\u001b[A\n",
      "\n",
      "                                                                       \n",
      "chunk:   5%|▍         | 32/666 [1:01:34<20:20:04, 115.46s/it, now=None]\n",
      "                                                                       \n",
      "chunk:   5%|▍         | 32/666 [1:01:34<20:20:04, 115.46s/it, now=None]\n",
      "chunk:  14%|█▍        | 31/221 [09:57<1:01:03, 19.28s/it, now=None]\u001b[A"
     ]
    },
    {
     "name": "stdout",
     "output_type": "stream",
     "text": [
      "Moviepy - Done !\n",
      "Moviepy - video ready /home/animesh/video_processing/data/samples/outputs/cropped/cropped_output_video.mp4\n"
     ]
    }
   ],
   "source": [
    "output_cropped_clip.audio = new_audio\n",
    "output_cropped_clip.write_videofile(crop_vid_path_with_audio)"
   ]
  },
  {
   "cell_type": "code",
   "execution_count": null,
   "metadata": {},
   "outputs": [],
   "source": []
  },
  {
   "cell_type": "code",
   "execution_count": null,
   "metadata": {},
   "outputs": [],
   "source": []
  }
 ],
 "metadata": {
  "kernelspec": {
   "display_name": "Python 3",
   "language": "python",
   "name": "python3"
  },
  "language_info": {
   "codemirror_mode": {
    "name": "ipython",
    "version": 3
   },
   "file_extension": ".py",
   "mimetype": "text/x-python",
   "name": "python",
   "nbconvert_exporter": "python",
   "pygments_lexer": "ipython3",
   "version": "3.8.2"
  }
 },
 "nbformat": 4,
 "nbformat_minor": 4
}
