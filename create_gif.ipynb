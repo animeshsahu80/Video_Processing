{
 "cells": [
  {
   "cell_type": "code",
   "execution_count": 4,
   "metadata": {},
   "outputs": [],
   "source": [
    "from conf import SAMPLE_INPUTS,SAMPLE_OUTPUTS\n",
    "from moviepy.editor import *\n",
    "from PIL import Image\n",
    "from moviepy.video.fx.all import crop"
   ]
  },
  {
   "cell_type": "markdown",
   "metadata": {},
   "source": [
    "#### keep your input video in /data/samples/inputs\n",
    "\n",
    "#### make a folder gif inside /data/samples/outputs/\n",
    "\n",
    "#### your output gif will be saved in /data/samples/outputs/gif\n",
    "\n"
   ]
  },
  {
   "cell_type": "code",
   "execution_count": 10,
   "metadata": {},
   "outputs": [],
   "source": [
    "source_path=os.path.join(SAMPLE_INPUTS,'sample.mp4')\n",
    "GIF_DIR=os.path.join(SAMPLE_OUTPUTS,'gif')\n",
    "os.makedirs(GIF_DIR,exist_ok=True)\n",
    "\n",
    "gif_path=os.path.join(GIF_DIR,'sample.gif')"
   ]
  },
  {
   "cell_type": "code",
   "execution_count": 14,
   "metadata": {},
   "outputs": [
    {
     "name": "stderr",
     "output_type": "stream",
     "text": [
      "t:  33%|███▎      | 98/300 [11:15<01:07,  2.99it/s, now=None]\n",
      "t:   0%|          | 0/500 [00:00<?, ?it/s, now=None]\u001b[A\n",
      "t:   1%|          | 6/500 [00:00<00:08, 56.45it/s, now=None]\u001b[A"
     ]
    },
    {
     "name": "stdout",
     "output_type": "stream",
     "text": [
      "MoviePy - Building file  /home/animesh/video_processing/data/samples/outputs/gif/sample.gif\n",
      "MoviePy - - Generating GIF frames.\n"
     ]
    },
    {
     "name": "stderr",
     "output_type": "stream",
     "text": [
      "\n",
      "t:   2%|▏         | 10/500 [00:00<00:10, 48.44it/s, now=None]\u001b[A\n",
      "t:   3%|▎         | 14/500 [00:00<00:11, 42.80it/s, now=None]\u001b[A\n",
      "t:   4%|▎         | 18/500 [00:00<00:11, 40.76it/s, now=None]\u001b[A\n",
      "t:   4%|▍         | 22/500 [00:00<00:12, 38.74it/s, now=None]\u001b[A\n",
      "t:   5%|▌         | 27/500 [00:00<00:11, 41.00it/s, now=None]\u001b[A\n",
      "t:   6%|▌         | 31/500 [00:00<00:12, 38.37it/s, now=None]\u001b[A\n",
      "t:   7%|▋         | 35/500 [00:00<00:12, 36.42it/s, now=None]\u001b[A\n",
      "t:   8%|▊         | 39/500 [00:01<00:13, 34.69it/s, now=None]\u001b[A\n",
      "t:   9%|▊         | 43/500 [00:01<00:12, 35.75it/s, now=None]\u001b[A\n",
      "t:  10%|█         | 50/500 [00:01<00:10, 41.30it/s, now=None]\u001b[A\n",
      "t:  11%|█▏        | 57/500 [00:01<00:09, 46.87it/s, now=None]\u001b[A\n",
      "t:  13%|█▎        | 65/500 [00:01<00:08, 52.29it/s, now=None]\u001b[A\n",
      "t:  14%|█▍        | 71/500 [00:01<00:07, 54.18it/s, now=None]\u001b[A\n",
      "t:  16%|█▌        | 79/500 [00:01<00:07, 58.92it/s, now=None]\u001b[A\n",
      "t:  17%|█▋        | 86/500 [00:01<00:06, 60.26it/s, now=None]\u001b[A\n",
      "t:  19%|█▊        | 93/500 [00:01<00:06, 59.53it/s, now=None]\u001b[A\n",
      "t:  20%|██        | 100/500 [00:02<00:06, 59.16it/s, now=None]\u001b[A\n",
      "t:  21%|██▏       | 107/500 [00:02<00:07, 51.14it/s, now=None]\u001b[A\n",
      "t:  23%|██▎       | 113/500 [00:02<00:08, 45.06it/s, now=None]\u001b[A\n",
      "t:  24%|██▎       | 118/500 [00:02<00:09, 41.95it/s, now=None]\u001b[A\n",
      "t:  25%|██▍       | 123/500 [00:02<00:09, 40.13it/s, now=None]\u001b[A\n",
      "t:  26%|██▌       | 128/500 [00:02<00:09, 39.49it/s, now=None]\u001b[A\n",
      "t:  27%|██▋       | 133/500 [00:02<00:08, 41.28it/s, now=None]\u001b[A\n",
      "t:  28%|██▊       | 138/500 [00:03<00:08, 41.17it/s, now=None]\u001b[A\n",
      "t:  29%|██▊       | 143/500 [00:03<00:08, 40.75it/s, now=None]\u001b[A\n",
      "t:  30%|██▉       | 148/500 [00:03<00:09, 38.36it/s, now=None]\u001b[A\n",
      "t:  31%|███       | 153/500 [00:03<00:08, 38.95it/s, now=None]\u001b[A\n",
      "t:  31%|███▏      | 157/500 [00:03<00:08, 39.03it/s, now=None]\u001b[A\n",
      "t:  32%|███▏      | 161/500 [00:03<00:08, 38.87it/s, now=None]\u001b[A\n",
      "t:  33%|███▎      | 166/500 [00:03<00:08, 40.65it/s, now=None]\u001b[A\n",
      "t:  34%|███▍      | 171/500 [00:03<00:07, 42.75it/s, now=None]\u001b[A\n",
      "t:  35%|███▌      | 176/500 [00:03<00:08, 40.11it/s, now=None]\u001b[A\n",
      "t:  36%|███▌      | 181/500 [00:04<00:09, 34.07it/s, now=None]\u001b[A\n",
      "t:  37%|███▋      | 185/500 [00:04<00:09, 32.84it/s, now=None]\u001b[A\n",
      "t:  38%|███▊      | 189/500 [00:04<00:09, 32.85it/s, now=None]\u001b[A\n",
      "t:  39%|███▊      | 193/500 [00:04<00:09, 31.31it/s, now=None]\u001b[A\n",
      "t:  39%|███▉      | 197/500 [00:04<00:10, 29.79it/s, now=None]\u001b[A\n",
      "t:  40%|████      | 201/500 [00:04<00:10, 29.49it/s, now=None]\u001b[A\n",
      "t:  41%|████      | 205/500 [00:05<00:10, 28.44it/s, now=None]\u001b[A\n",
      "t:  42%|████▏     | 208/500 [00:05<00:11, 25.64it/s, now=None]\u001b[A\n",
      "t:  42%|████▏     | 212/500 [00:05<00:10, 26.47it/s, now=None]\u001b[A\n",
      "t:  43%|████▎     | 215/500 [00:05<00:10, 27.30it/s, now=None]\u001b[A\n",
      "t:  44%|████▍     | 219/500 [00:05<00:10, 26.51it/s, now=None]\u001b[A\n",
      "t:  45%|████▍     | 223/500 [00:05<00:09, 28.19it/s, now=None]\u001b[A\n",
      "t:  45%|████▌     | 226/500 [00:05<00:09, 28.63it/s, now=None]\u001b[A\n",
      "t:  46%|████▌     | 230/500 [00:05<00:08, 30.16it/s, now=None]\u001b[A\n",
      "t:  47%|████▋     | 234/500 [00:06<00:08, 30.03it/s, now=None]\u001b[A\n",
      "t:  48%|████▊     | 238/500 [00:06<00:09, 28.44it/s, now=None]\u001b[A\n",
      "t:  48%|████▊     | 241/500 [00:06<00:09, 27.10it/s, now=None]\u001b[A\n",
      "t:  49%|████▉     | 244/500 [00:06<00:09, 27.71it/s, now=None]\u001b[A\n",
      "t:  50%|████▉     | 248/500 [00:06<00:08, 29.41it/s, now=None]\u001b[A\n",
      "t:  50%|█████     | 252/500 [00:06<00:08, 30.59it/s, now=None]\u001b[A\n",
      "t:  51%|█████     | 256/500 [00:06<00:07, 31.98it/s, now=None]\u001b[A\n",
      "t:  52%|█████▏    | 260/500 [00:06<00:07, 32.35it/s, now=None]\u001b[A\n",
      "t:  53%|█████▎    | 264/500 [00:06<00:06, 33.71it/s, now=None]\u001b[A\n",
      "t:  54%|█████▎    | 268/500 [00:07<00:07, 32.52it/s, now=None]\u001b[A\n",
      "t:  54%|█████▍    | 272/500 [00:07<00:07, 32.07it/s, now=None]\u001b[A\n",
      "t:  55%|█████▌    | 276/500 [00:07<00:06, 32.70it/s, now=None]\u001b[A\n",
      "t:  56%|█████▌    | 280/500 [00:07<00:06, 34.09it/s, now=None]\u001b[A\n",
      "t:  57%|█████▋    | 284/500 [00:07<00:06, 33.78it/s, now=None]\u001b[A\n",
      "t:  58%|█████▊    | 288/500 [00:07<00:06, 32.78it/s, now=None]\u001b[A\n",
      "t:  58%|█████▊    | 292/500 [00:07<00:06, 31.39it/s, now=None]\u001b[A\n",
      "t:  59%|█████▉    | 296/500 [00:07<00:06, 32.34it/s, now=None]\u001b[A\n",
      "t:  60%|██████    | 300/500 [00:08<00:06, 30.99it/s, now=None]\u001b[A\n",
      "t:  61%|██████    | 304/500 [00:08<00:06, 31.69it/s, now=None]\u001b[A\n",
      "t:  62%|██████▏   | 308/500 [00:08<00:05, 33.06it/s, now=None]\u001b[A\n",
      "t:  62%|██████▏   | 312/500 [00:08<00:05, 33.24it/s, now=None]\u001b[A\n",
      "t:  63%|██████▎   | 316/500 [00:08<00:05, 34.13it/s, now=None]\u001b[A\n",
      "t:  64%|██████▍   | 320/500 [00:08<00:05, 34.66it/s, now=None]\u001b[A\n",
      "t:  65%|██████▍   | 324/500 [00:08<00:05, 34.24it/s, now=None]\u001b[A\n",
      "t:  66%|██████▌   | 328/500 [00:08<00:04, 35.16it/s, now=None]\u001b[A\n",
      "t:  66%|██████▋   | 332/500 [00:09<00:04, 34.63it/s, now=None]\u001b[A\n",
      "t:  67%|██████▋   | 336/500 [00:09<00:04, 33.22it/s, now=None]\u001b[A\n",
      "t:  68%|██████▊   | 340/500 [00:09<00:04, 33.17it/s, now=None]\u001b[A\n",
      "t:  69%|██████▉   | 344/500 [00:09<00:04, 32.59it/s, now=None]\u001b[A\n",
      "t:  70%|██████▉   | 348/500 [00:09<00:04, 32.63it/s, now=None]\u001b[A\n",
      "t:  70%|███████   | 352/500 [00:09<00:04, 32.15it/s, now=None]\u001b[A\n",
      "t:  71%|███████   | 356/500 [00:09<00:04, 32.77it/s, now=None]\u001b[A\n",
      "t:  72%|███████▏  | 360/500 [00:09<00:04, 32.02it/s, now=None]\u001b[A\n",
      "t:  73%|███████▎  | 364/500 [00:10<00:04, 32.01it/s, now=None]\u001b[A\n",
      "t:  74%|███████▎  | 368/500 [00:10<00:04, 31.85it/s, now=None]\u001b[A\n",
      "t:  74%|███████▍  | 372/500 [00:10<00:03, 32.70it/s, now=None]\u001b[A\n",
      "t:  75%|███████▌  | 376/500 [00:10<00:03, 33.59it/s, now=None]\u001b[A\n",
      "t:  76%|███████▌  | 380/500 [00:10<00:03, 33.66it/s, now=None]\u001b[A\n",
      "t:  77%|███████▋  | 384/500 [00:10<00:03, 31.67it/s, now=None]\u001b[A\n",
      "t:  78%|███████▊  | 388/500 [00:10<00:03, 30.22it/s, now=None]\u001b[A\n",
      "t:  78%|███████▊  | 392/500 [00:10<00:03, 28.66it/s, now=None]\u001b[A\n",
      "t:  79%|███████▉  | 395/500 [00:11<00:03, 28.25it/s, now=None]\u001b[A\n",
      "t:  80%|███████▉  | 398/500 [00:11<00:03, 27.54it/s, now=None]\u001b[A\n",
      "t:  80%|████████  | 401/500 [00:11<00:03, 27.25it/s, now=None]\u001b[A\n",
      "t:  81%|████████  | 404/500 [00:11<00:03, 25.78it/s, now=None]\u001b[A\n",
      "t:  82%|████████▏ | 409/500 [00:11<00:03, 28.14it/s, now=None]\u001b[A\n",
      "t:  83%|████████▎ | 413/500 [00:11<00:03, 28.46it/s, now=None]\u001b[A\n",
      "t:  83%|████████▎ | 416/500 [00:11<00:03, 27.99it/s, now=None]\u001b[A\n",
      "t:  84%|████████▍ | 419/500 [00:11<00:02, 28.03it/s, now=None]\u001b[A\n",
      "t:  84%|████████▍ | 422/500 [00:12<00:02, 28.36it/s, now=None]\u001b[A\n",
      "t:  85%|████████▌ | 425/500 [00:12<00:02, 28.52it/s, now=None]\u001b[A\n",
      "t:  86%|████████▌ | 428/500 [00:12<00:02, 26.26it/s, now=None]\u001b[A\n",
      "t:  86%|████████▌ | 431/500 [00:12<00:02, 26.99it/s, now=None]\u001b[A\n",
      "t:  87%|████████▋ | 434/500 [00:12<00:02, 26.93it/s, now=None]\u001b[A\n",
      "t:  87%|████████▋ | 437/500 [00:12<00:02, 26.60it/s, now=None]\u001b[A\n",
      "t:  88%|████████▊ | 440/500 [00:12<00:02, 26.65it/s, now=None]\u001b[A\n",
      "t:  89%|████████▊ | 443/500 [00:12<00:02, 27.37it/s, now=None]\u001b[A\n",
      "t:  89%|████████▉ | 446/500 [00:12<00:01, 27.49it/s, now=None]\u001b[A\n",
      "t:  90%|████████▉ | 449/500 [00:13<00:01, 26.05it/s, now=None]\u001b[A\n",
      "t:  90%|█████████ | 452/500 [00:13<00:01, 25.86it/s, now=None]\u001b[A\n",
      "t:  91%|█████████ | 456/500 [00:13<00:01, 28.38it/s, now=None]\u001b[A\n",
      "t:  92%|█████████▏| 460/500 [00:13<00:01, 31.00it/s, now=None]\u001b[A\n",
      "t:  93%|█████████▎| 464/500 [00:13<00:01, 33.17it/s, now=None]\u001b[A\n",
      "t:  94%|█████████▎| 468/500 [00:13<00:00, 33.87it/s, now=None]\u001b[A\n",
      "t:  94%|█████████▍| 472/500 [00:13<00:00, 32.97it/s, now=None]\u001b[A\n",
      "t:  95%|█████████▌| 476/500 [00:13<00:00, 33.00it/s, now=None]\u001b[A\n",
      "t:  96%|█████████▌| 480/500 [00:13<00:00, 33.82it/s, now=None]\u001b[A\n",
      "t:  97%|█████████▋| 484/500 [00:14<00:00, 31.97it/s, now=None]\u001b[A\n",
      "t:  98%|█████████▊| 488/500 [00:14<00:00, 31.03it/s, now=None]\u001b[A\n",
      "t:  98%|█████████▊| 492/500 [00:14<00:00, 30.43it/s, now=None]\u001b[A\n",
      "t:  99%|█████████▉| 497/500 [00:14<00:00, 33.73it/s, now=None]\u001b[A\n",
      "t:  33%|███▎      | 98/300 [11:30<01:07,  2.99it/s, now=None] \u001b[A"
     ]
    },
    {
     "name": "stdout",
     "output_type": "stream",
     "text": [
      "MoviePy - - File ready: /home/animesh/video_processing/data/samples/outputs/gif/sample.gif.\n"
     ]
    }
   ],
   "source": [
    "clip=VideoFileClip(source_path)\n",
    "fps=clip.reader.fps\n",
    "subclip=clip.subclip(10,20) #sub clip from video from 10th to 20th sec\n",
    "subclip=subclip.resize(width=720)  #adjust the size of gif you want from width\n",
    "subclip.write_gif(gif_path,program='ffmpeg',fps=50)"
   ]
  },
  {
   "cell_type": "code",
   "execution_count": null,
   "metadata": {},
   "outputs": [],
   "source": []
  },
  {
   "cell_type": "code",
   "execution_count": null,
   "metadata": {},
   "outputs": [],
   "source": []
  }
 ],
 "metadata": {
  "kernelspec": {
   "display_name": "Python 3",
   "language": "python",
   "name": "python3"
  },
  "language_info": {
   "codemirror_mode": {
    "name": "ipython",
    "version": 3
   },
   "file_extension": ".py",
   "mimetype": "text/x-python",
   "name": "python",
   "nbconvert_exporter": "python",
   "pygments_lexer": "ipython3",
   "version": "3.8.2"
  }
 },
 "nbformat": 4,
 "nbformat_minor": 4
}
